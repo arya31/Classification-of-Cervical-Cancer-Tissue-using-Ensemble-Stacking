{
  "nbformat": 4,
  "nbformat_minor": 0,
  "metadata": {
    "colab": {
      "name": "CRC_VAL_HE_7K_JPG_Ensemble.ipynb",
      "provenance": [],
      "include_colab_link": true
    },
    "kernelspec": {
      "name": "python3",
      "display_name": "Python 3"
    },
    "language_info": {
      "name": "python"
    },
    "accelerator": "GPU",
    "widgets": {
      "application/vnd.jupyter.widget-state+json": {
        "4c062a4550c041e28cd2161fb213041c": {
          "model_module": "@jupyter-widgets/controls",
          "model_name": "HBoxModel",
          "model_module_version": "1.5.0",
          "state": {
            "_dom_classes": [],
            "_model_module": "@jupyter-widgets/controls",
            "_model_module_version": "1.5.0",
            "_model_name": "HBoxModel",
            "_view_count": null,
            "_view_module": "@jupyter-widgets/controls",
            "_view_module_version": "1.5.0",
            "_view_name": "HBoxView",
            "box_style": "",
            "children": [
              "IPY_MODEL_1eac7e827bfa497aa0c19b91c307902c",
              "IPY_MODEL_e4648dc3f095481c9e34f4035c203191",
              "IPY_MODEL_f88c5dbc30314c2fa6b9271d19946387"
            ],
            "layout": "IPY_MODEL_99819993b8114d42b469fe46fae28bd1"
          }
        },
        "1eac7e827bfa497aa0c19b91c307902c": {
          "model_module": "@jupyter-widgets/controls",
          "model_name": "HTMLModel",
          "model_module_version": "1.5.0",
          "state": {
            "_dom_classes": [],
            "_model_module": "@jupyter-widgets/controls",
            "_model_module_version": "1.5.0",
            "_model_name": "HTMLModel",
            "_view_count": null,
            "_view_module": "@jupyter-widgets/controls",
            "_view_module_version": "1.5.0",
            "_view_name": "HTMLView",
            "description": "",
            "description_tooltip": null,
            "layout": "IPY_MODEL_207ebf12bb8240e7834dbf6077cc874e",
            "placeholder": "​",
            "style": "IPY_MODEL_d39c5e63b18d4775a0b4ee0248f96fbf",
            "value": "100%"
          }
        },
        "e4648dc3f095481c9e34f4035c203191": {
          "model_module": "@jupyter-widgets/controls",
          "model_name": "FloatProgressModel",
          "model_module_version": "1.5.0",
          "state": {
            "_dom_classes": [],
            "_model_module": "@jupyter-widgets/controls",
            "_model_module_version": "1.5.0",
            "_model_name": "FloatProgressModel",
            "_view_count": null,
            "_view_module": "@jupyter-widgets/controls",
            "_view_module_version": "1.5.0",
            "_view_name": "ProgressView",
            "bar_style": "success",
            "description": "",
            "description_tooltip": null,
            "layout": "IPY_MODEL_e99f29f137a64830867eaa9384d97125",
            "max": 21452055,
            "min": 0,
            "orientation": "horizontal",
            "style": "IPY_MODEL_e8b41f3aa18c48b98a97c3b2e15172f0",
            "value": 21452055
          }
        },
        "f88c5dbc30314c2fa6b9271d19946387": {
          "model_module": "@jupyter-widgets/controls",
          "model_name": "HTMLModel",
          "model_module_version": "1.5.0",
          "state": {
            "_dom_classes": [],
            "_model_module": "@jupyter-widgets/controls",
            "_model_module_version": "1.5.0",
            "_model_name": "HTMLModel",
            "_view_count": null,
            "_view_module": "@jupyter-widgets/controls",
            "_view_module_version": "1.5.0",
            "_view_name": "HTMLView",
            "description": "",
            "description_tooltip": null,
            "layout": "IPY_MODEL_6bdae5933b294e40a65041b7f553ff27",
            "placeholder": "​",
            "style": "IPY_MODEL_4e088cc57fd542549ac3038ec813333c",
            "value": " 20.5M/20.5M [00:00&lt;00:00, 82.4MB/s]"
          }
        },
        "99819993b8114d42b469fe46fae28bd1": {
          "model_module": "@jupyter-widgets/base",
          "model_name": "LayoutModel",
          "model_module_version": "1.2.0",
          "state": {
            "_model_module": "@jupyter-widgets/base",
            "_model_module_version": "1.2.0",
            "_model_name": "LayoutModel",
            "_view_count": null,
            "_view_module": "@jupyter-widgets/base",
            "_view_module_version": "1.2.0",
            "_view_name": "LayoutView",
            "align_content": null,
            "align_items": null,
            "align_self": null,
            "border": null,
            "bottom": null,
            "display": null,
            "flex": null,
            "flex_flow": null,
            "grid_area": null,
            "grid_auto_columns": null,
            "grid_auto_flow": null,
            "grid_auto_rows": null,
            "grid_column": null,
            "grid_gap": null,
            "grid_row": null,
            "grid_template_areas": null,
            "grid_template_columns": null,
            "grid_template_rows": null,
            "height": null,
            "justify_content": null,
            "justify_items": null,
            "left": null,
            "margin": null,
            "max_height": null,
            "max_width": null,
            "min_height": null,
            "min_width": null,
            "object_fit": null,
            "object_position": null,
            "order": null,
            "overflow": null,
            "overflow_x": null,
            "overflow_y": null,
            "padding": null,
            "right": null,
            "top": null,
            "visibility": null,
            "width": null
          }
        },
        "207ebf12bb8240e7834dbf6077cc874e": {
          "model_module": "@jupyter-widgets/base",
          "model_name": "LayoutModel",
          "model_module_version": "1.2.0",
          "state": {
            "_model_module": "@jupyter-widgets/base",
            "_model_module_version": "1.2.0",
            "_model_name": "LayoutModel",
            "_view_count": null,
            "_view_module": "@jupyter-widgets/base",
            "_view_module_version": "1.2.0",
            "_view_name": "LayoutView",
            "align_content": null,
            "align_items": null,
            "align_self": null,
            "border": null,
            "bottom": null,
            "display": null,
            "flex": null,
            "flex_flow": null,
            "grid_area": null,
            "grid_auto_columns": null,
            "grid_auto_flow": null,
            "grid_auto_rows": null,
            "grid_column": null,
            "grid_gap": null,
            "grid_row": null,
            "grid_template_areas": null,
            "grid_template_columns": null,
            "grid_template_rows": null,
            "height": null,
            "justify_content": null,
            "justify_items": null,
            "left": null,
            "margin": null,
            "max_height": null,
            "max_width": null,
            "min_height": null,
            "min_width": null,
            "object_fit": null,
            "object_position": null,
            "order": null,
            "overflow": null,
            "overflow_x": null,
            "overflow_y": null,
            "padding": null,
            "right": null,
            "top": null,
            "visibility": null,
            "width": null
          }
        },
        "d39c5e63b18d4775a0b4ee0248f96fbf": {
          "model_module": "@jupyter-widgets/controls",
          "model_name": "DescriptionStyleModel",
          "model_module_version": "1.5.0",
          "state": {
            "_model_module": "@jupyter-widgets/controls",
            "_model_module_version": "1.5.0",
            "_model_name": "DescriptionStyleModel",
            "_view_count": null,
            "_view_module": "@jupyter-widgets/base",
            "_view_module_version": "1.2.0",
            "_view_name": "StyleView",
            "description_width": ""
          }
        },
        "e99f29f137a64830867eaa9384d97125": {
          "model_module": "@jupyter-widgets/base",
          "model_name": "LayoutModel",
          "model_module_version": "1.2.0",
          "state": {
            "_model_module": "@jupyter-widgets/base",
            "_model_module_version": "1.2.0",
            "_model_name": "LayoutModel",
            "_view_count": null,
            "_view_module": "@jupyter-widgets/base",
            "_view_module_version": "1.2.0",
            "_view_name": "LayoutView",
            "align_content": null,
            "align_items": null,
            "align_self": null,
            "border": null,
            "bottom": null,
            "display": null,
            "flex": null,
            "flex_flow": null,
            "grid_area": null,
            "grid_auto_columns": null,
            "grid_auto_flow": null,
            "grid_auto_rows": null,
            "grid_column": null,
            "grid_gap": null,
            "grid_row": null,
            "grid_template_areas": null,
            "grid_template_columns": null,
            "grid_template_rows": null,
            "height": null,
            "justify_content": null,
            "justify_items": null,
            "left": null,
            "margin": null,
            "max_height": null,
            "max_width": null,
            "min_height": null,
            "min_width": null,
            "object_fit": null,
            "object_position": null,
            "order": null,
            "overflow": null,
            "overflow_x": null,
            "overflow_y": null,
            "padding": null,
            "right": null,
            "top": null,
            "visibility": null,
            "width": null
          }
        },
        "e8b41f3aa18c48b98a97c3b2e15172f0": {
          "model_module": "@jupyter-widgets/controls",
          "model_name": "ProgressStyleModel",
          "model_module_version": "1.5.0",
          "state": {
            "_model_module": "@jupyter-widgets/controls",
            "_model_module_version": "1.5.0",
            "_model_name": "ProgressStyleModel",
            "_view_count": null,
            "_view_module": "@jupyter-widgets/base",
            "_view_module_version": "1.2.0",
            "_view_name": "StyleView",
            "bar_color": null,
            "description_width": ""
          }
        },
        "6bdae5933b294e40a65041b7f553ff27": {
          "model_module": "@jupyter-widgets/base",
          "model_name": "LayoutModel",
          "model_module_version": "1.2.0",
          "state": {
            "_model_module": "@jupyter-widgets/base",
            "_model_module_version": "1.2.0",
            "_model_name": "LayoutModel",
            "_view_count": null,
            "_view_module": "@jupyter-widgets/base",
            "_view_module_version": "1.2.0",
            "_view_name": "LayoutView",
            "align_content": null,
            "align_items": null,
            "align_self": null,
            "border": null,
            "bottom": null,
            "display": null,
            "flex": null,
            "flex_flow": null,
            "grid_area": null,
            "grid_auto_columns": null,
            "grid_auto_flow": null,
            "grid_auto_rows": null,
            "grid_column": null,
            "grid_gap": null,
            "grid_row": null,
            "grid_template_areas": null,
            "grid_template_columns": null,
            "grid_template_rows": null,
            "height": null,
            "justify_content": null,
            "justify_items": null,
            "left": null,
            "margin": null,
            "max_height": null,
            "max_width": null,
            "min_height": null,
            "min_width": null,
            "object_fit": null,
            "object_position": null,
            "order": null,
            "overflow": null,
            "overflow_x": null,
            "overflow_y": null,
            "padding": null,
            "right": null,
            "top": null,
            "visibility": null,
            "width": null
          }
        },
        "4e088cc57fd542549ac3038ec813333c": {
          "model_module": "@jupyter-widgets/controls",
          "model_name": "DescriptionStyleModel",
          "model_module_version": "1.5.0",
          "state": {
            "_model_module": "@jupyter-widgets/controls",
            "_model_module_version": "1.5.0",
            "_model_name": "DescriptionStyleModel",
            "_view_count": null,
            "_view_module": "@jupyter-widgets/base",
            "_view_module_version": "1.2.0",
            "_view_name": "StyleView",
            "description_width": ""
          }
        }
      }
    }
  },
  "cells": [
    {
      "cell_type": "markdown",
      "metadata": {
        "id": "view-in-github",
        "colab_type": "text"
      },
      "source": [
        "<a href=\"https://colab.research.google.com/github/arya31/Classification-of-Cervical-Cancer-Tissue-using-Ensemble-Stacking/blob/main/CRC_VAL_HE_7K_JPG_Ensemble.ipynb\" target=\"_parent\"><img src=\"https://colab.research.google.com/assets/colab-badge.svg\" alt=\"Open In Colab\"/></a>"
      ]
    },
    {
      "cell_type": "code",
      "metadata": {
        "colab": {
          "base_uri": "https://localhost:8080/"
        },
        "id": "SkDmryWd8PDJ",
        "outputId": "f2b28e89-147d-478a-fa5c-703cf95703d2"
      },
      "source": [
        "from google.colab import drive\n",
        "drive.mount('/content/drive')"
      ],
      "execution_count": null,
      "outputs": [
        {
          "output_type": "stream",
          "name": "stdout",
          "text": [
            "Mounted at /content/drive\n"
          ]
        }
      ]
    },
    {
      "cell_type": "code",
      "metadata": {
        "id": "THEqUbNB8b5T"
      },
      "source": [
        "!unzip -q /content/drive/MyDrive/CRC-VAL-HE-7K_JPG.zip"
      ],
      "execution_count": null,
      "outputs": []
    },
    {
      "cell_type": "code",
      "source": [
        "!wget https://raw.githubusercontent.com/Iamsdt/DLProjects/master/utils/Helper.py"
      ],
      "metadata": {
        "colab": {
          "base_uri": "https://localhost:8080/"
        },
        "id": "ZIKMJIZvZr7D",
        "outputId": "a5ac212b-b807-4dfd-fd0a-72ab684b410c"
      },
      "execution_count": null,
      "outputs": [
        {
          "output_type": "stream",
          "name": "stdout",
          "text": [
            "--2022-06-19 14:39:20--  https://raw.githubusercontent.com/Iamsdt/DLProjects/master/utils/Helper.py\n",
            "Resolving raw.githubusercontent.com (raw.githubusercontent.com)... 185.199.108.133, 185.199.109.133, 185.199.110.133, ...\n",
            "Connecting to raw.githubusercontent.com (raw.githubusercontent.com)|185.199.108.133|:443... connected.\n",
            "HTTP request sent, awaiting response... 200 OK\n",
            "Length: 21413 (21K) [text/plain]\n",
            "Saving to: ‘Helper.py’\n",
            "\n",
            "\rHelper.py             0%[                    ]       0  --.-KB/s               \rHelper.py           100%[===================>]  20.91K  --.-KB/s    in 0.001s  \n",
            "\n",
            "2022-06-19 14:39:21 (20.0 MB/s) - ‘Helper.py’ saved [21413/21413]\n",
            "\n"
          ]
        }
      ]
    },
    {
      "cell_type": "code",
      "metadata": {
        "id": "LvUAS-I28hAa"
      },
      "source": [
        "import json\n",
        "import os\n",
        "import Helper\n",
        "import numpy as np\n",
        "import pandas as pd\n",
        "import matplotlib.pyplot as plt\n",
        "import cv2\n",
        "from PIL import Image\n",
        "from termcolor import cprint\n",
        "from PIL import Image\n",
        "from glob import glob\n",
        "import time"
      ],
      "execution_count": null,
      "outputs": []
    },
    {
      "cell_type": "code",
      "metadata": {
        "id": "dR7s_YiW8lVb"
      },
      "source": [
        "def create_dataframe(source_folder_path):\n",
        "  label_dict = {}\n",
        "  for index, class_name in enumerate(os.listdir(source_folder_path)):\n",
        "    label_dict[class_name] = float(index)\n",
        "  image_paths, labels = [], []\n",
        "  for class_name in os.listdir(source_folder_path):\n",
        "    subfolder_path = os.path.join(source_folder_path, class_name)\n",
        "    for img_path in os.listdir(subfolder_path):\n",
        "      image_paths.append(os.path.join(subfolder_path, img_path))\n",
        "      labels.append(label_dict[class_name])\n",
        "  dataframe = pd.DataFrame(\n",
        "      {\n",
        "          'source': image_paths,\n",
        "          'label': labels\n",
        "      }\n",
        "  )\n",
        "  dataframe.to_csv('metadata.csv', index = False)\n",
        "  with open('class_names.json', 'w') as out_file:\n",
        "    json.dump(label_dict, out_file)\n",
        "    out_file.close()\n",
        "source_folder_path = '/content/CRC-VAL-HE-7K_JPG/CRC-VAL-HE-7K'\n",
        "create_dataframe(source_folder_path)"
      ],
      "execution_count": null,
      "outputs": []
    },
    {
      "cell_type": "code",
      "metadata": {
        "id": "vC0H-xLb8onD"
      },
      "source": [
        "import torch\n",
        "import torch.nn as nn\n",
        "from torchvision.transforms import transforms\n",
        "from torch.utils.data import Dataset, DataLoader\n",
        "from torchsummary import summary\n",
        "from torchvision import models"
      ],
      "execution_count": null,
      "outputs": []
    },
    {
      "cell_type": "code",
      "metadata": {
        "id": "rIvyn1Az9BtS"
      },
      "source": [
        "class ColoData(Dataset):\n",
        "  def __init__(self,meta_df_path, H = 224, W = 224):\n",
        "    super(ColoData, self).__init__()\n",
        "    self.meta_df = pd.read_csv(meta_df_path)\n",
        "    self.H = H\n",
        "    self.W = W\n",
        "\n",
        "  def load_image(self, source):\n",
        "    img = Image.open(source)\n",
        "    img = img.resize((self.H, self.W),Image.ANTIALIAS)\n",
        "    return img\n",
        "\n",
        "  def __len__(self):\n",
        "    return len(self.meta_df)\n",
        "\n",
        "  def __numC__(self):\n",
        "    return self.meta_df['label'].nunique()\n",
        "  \n",
        "  def __getitem__(self, index):\n",
        "    source = self.meta_df.iloc[index]['source']\n",
        "    label = self.meta_df.iloc[index]['label']\n",
        "    image = self.load_image(source)\n",
        "    image = transforms.ToTensor()(image)\n",
        "    return (image, label)"
      ],
      "execution_count": null,
      "outputs": []
    },
    {
      "cell_type": "code",
      "metadata": {
        "id": "uZOfC9rL9DyS"
      },
      "source": [
        "dataset = ColoData('/content/metadata.csv')"
      ],
      "execution_count": null,
      "outputs": []
    },
    {
      "cell_type": "code",
      "metadata": {
        "id": "IwG-MtBa9JXB"
      },
      "source": [
        "BATCH_SIZE = 128"
      ],
      "execution_count": null,
      "outputs": []
    },
    {
      "cell_type": "code",
      "metadata": {
        "colab": {
          "base_uri": "https://localhost:8080/"
        },
        "id": "HizMB3Ph9LBq",
        "outputId": "45201dae-6ee6-422f-a23d-a7ad9dfcdded"
      },
      "source": [
        "train_data_size = int(0.80 *dataset.__len__())\n",
        "val_data_size = dataset.__len__() - train_data_size\n",
        "train_ds, val_ds = torch.utils.data.random_split(dataset,[train_data_size, val_data_size] )\n",
        "test_data_size = 1000\n",
        "train_ds, test_ds = torch.utils.data.random_split(train_ds,[train_data_size - 1000, test_data_size] )\n",
        "print(train_ds.__len__())\n",
        "print(val_ds.__len__())\n",
        "print(test_ds.__len__())"
      ],
      "execution_count": null,
      "outputs": [
        {
          "output_type": "stream",
          "name": "stdout",
          "text": [
            "4744\n",
            "1436\n",
            "1000\n"
          ]
        }
      ]
    },
    {
      "cell_type": "code",
      "metadata": {
        "colab": {
          "base_uri": "https://localhost:8080/"
        },
        "id": "rq-3kn7D9MkS",
        "outputId": "ac283e72-65ca-49ae-f410-63c504dd5f0f"
      },
      "source": [
        "train_dl = DataLoader(train_ds, batch_size = BATCH_SIZE, shuffle = True)\n",
        "val_dl = DataLoader(val_ds, batch_size = BATCH_SIZE, shuffle = True)\n",
        "test_dl = DataLoader(test_ds, batch_size = BATCH_SIZE, shuffle = False)\n",
        "for (patch, labels) in train_dl:\n",
        "  print(patch.shape, labels.shape)\n",
        "  break\n",
        "for (patch, labels) in val_dl:\n",
        "  print(patch.shape, labels.shape)\n",
        "  break\n",
        "for (patch, labels) in test_dl:\n",
        "  print(patch.shape, labels.shape)\n",
        "  break"
      ],
      "execution_count": null,
      "outputs": [
        {
          "output_type": "stream",
          "name": "stdout",
          "text": [
            "torch.Size([128, 3, 224, 224]) torch.Size([128])\n",
            "torch.Size([128, 3, 224, 224]) torch.Size([128])\n",
            "torch.Size([128, 3, 224, 224]) torch.Size([128])\n"
          ]
        }
      ]
    },
    {
      "cell_type": "code",
      "metadata": {
        "id": "oxui825T9OhS"
      },
      "source": [
        "device = 'cuda'"
      ],
      "execution_count": null,
      "outputs": []
    },
    {
      "cell_type": "code",
      "metadata": {
        "colab": {
          "base_uri": "https://localhost:8080/"
        },
        "id": "ONnDwVRM9QYK",
        "outputId": "92ada01d-ebfb-4c58-fd60-559d4c065ee7"
      },
      "source": [
        "class Model1(nn.Module): # Resnet18\n",
        "  \n",
        "  def __init__(self, num_classes):\n",
        "    super(Model1, self).__init__()\n",
        "\n",
        "    self.resnet18 = torch.hub.load('pytorch/vision:v0.10.0', 'resnet18', pretrained=False)\n",
        "    self.op_layer = nn.Linear(1000, num_classes)\n",
        "\n",
        "  def forward(self, x):\n",
        "    op1 = self.resnet18(x)\n",
        "    output = self.op_layer(op1)\n",
        "    return output\n",
        "model = Model1(9).to(device)\n",
        "summary(model, (3,224,224), batch_size = 1, device = device)"
      ],
      "execution_count": null,
      "outputs": [
        {
          "output_type": "stream",
          "name": "stderr",
          "text": [
            "Using cache found in /root/.cache/torch/hub/pytorch_vision_v0.10.0\n"
          ]
        },
        {
          "output_type": "stream",
          "name": "stdout",
          "text": [
            "----------------------------------------------------------------\n",
            "        Layer (type)               Output Shape         Param #\n",
            "================================================================\n",
            "            Conv2d-1          [1, 64, 112, 112]           9,408\n",
            "       BatchNorm2d-2          [1, 64, 112, 112]             128\n",
            "              ReLU-3          [1, 64, 112, 112]               0\n",
            "         MaxPool2d-4            [1, 64, 56, 56]               0\n",
            "            Conv2d-5            [1, 64, 56, 56]          36,864\n",
            "       BatchNorm2d-6            [1, 64, 56, 56]             128\n",
            "              ReLU-7            [1, 64, 56, 56]               0\n",
            "            Conv2d-8            [1, 64, 56, 56]          36,864\n",
            "       BatchNorm2d-9            [1, 64, 56, 56]             128\n",
            "             ReLU-10            [1, 64, 56, 56]               0\n",
            "       BasicBlock-11            [1, 64, 56, 56]               0\n",
            "           Conv2d-12            [1, 64, 56, 56]          36,864\n",
            "      BatchNorm2d-13            [1, 64, 56, 56]             128\n",
            "             ReLU-14            [1, 64, 56, 56]               0\n",
            "           Conv2d-15            [1, 64, 56, 56]          36,864\n",
            "      BatchNorm2d-16            [1, 64, 56, 56]             128\n",
            "             ReLU-17            [1, 64, 56, 56]               0\n",
            "       BasicBlock-18            [1, 64, 56, 56]               0\n",
            "           Conv2d-19           [1, 128, 28, 28]          73,728\n",
            "      BatchNorm2d-20           [1, 128, 28, 28]             256\n",
            "             ReLU-21           [1, 128, 28, 28]               0\n",
            "           Conv2d-22           [1, 128, 28, 28]         147,456\n",
            "      BatchNorm2d-23           [1, 128, 28, 28]             256\n",
            "           Conv2d-24           [1, 128, 28, 28]           8,192\n",
            "      BatchNorm2d-25           [1, 128, 28, 28]             256\n",
            "             ReLU-26           [1, 128, 28, 28]               0\n",
            "       BasicBlock-27           [1, 128, 28, 28]               0\n",
            "           Conv2d-28           [1, 128, 28, 28]         147,456\n",
            "      BatchNorm2d-29           [1, 128, 28, 28]             256\n",
            "             ReLU-30           [1, 128, 28, 28]               0\n",
            "           Conv2d-31           [1, 128, 28, 28]         147,456\n",
            "      BatchNorm2d-32           [1, 128, 28, 28]             256\n",
            "             ReLU-33           [1, 128, 28, 28]               0\n",
            "       BasicBlock-34           [1, 128, 28, 28]               0\n",
            "           Conv2d-35           [1, 256, 14, 14]         294,912\n",
            "      BatchNorm2d-36           [1, 256, 14, 14]             512\n",
            "             ReLU-37           [1, 256, 14, 14]               0\n",
            "           Conv2d-38           [1, 256, 14, 14]         589,824\n",
            "      BatchNorm2d-39           [1, 256, 14, 14]             512\n",
            "           Conv2d-40           [1, 256, 14, 14]          32,768\n",
            "      BatchNorm2d-41           [1, 256, 14, 14]             512\n",
            "             ReLU-42           [1, 256, 14, 14]               0\n",
            "       BasicBlock-43           [1, 256, 14, 14]               0\n",
            "           Conv2d-44           [1, 256, 14, 14]         589,824\n",
            "      BatchNorm2d-45           [1, 256, 14, 14]             512\n",
            "             ReLU-46           [1, 256, 14, 14]               0\n",
            "           Conv2d-47           [1, 256, 14, 14]         589,824\n",
            "      BatchNorm2d-48           [1, 256, 14, 14]             512\n",
            "             ReLU-49           [1, 256, 14, 14]               0\n",
            "       BasicBlock-50           [1, 256, 14, 14]               0\n",
            "           Conv2d-51             [1, 512, 7, 7]       1,179,648\n",
            "      BatchNorm2d-52             [1, 512, 7, 7]           1,024\n",
            "             ReLU-53             [1, 512, 7, 7]               0\n",
            "           Conv2d-54             [1, 512, 7, 7]       2,359,296\n",
            "      BatchNorm2d-55             [1, 512, 7, 7]           1,024\n",
            "           Conv2d-56             [1, 512, 7, 7]         131,072\n",
            "      BatchNorm2d-57             [1, 512, 7, 7]           1,024\n",
            "             ReLU-58             [1, 512, 7, 7]               0\n",
            "       BasicBlock-59             [1, 512, 7, 7]               0\n",
            "           Conv2d-60             [1, 512, 7, 7]       2,359,296\n",
            "      BatchNorm2d-61             [1, 512, 7, 7]           1,024\n",
            "             ReLU-62             [1, 512, 7, 7]               0\n",
            "           Conv2d-63             [1, 512, 7, 7]       2,359,296\n",
            "      BatchNorm2d-64             [1, 512, 7, 7]           1,024\n",
            "             ReLU-65             [1, 512, 7, 7]               0\n",
            "       BasicBlock-66             [1, 512, 7, 7]               0\n",
            "AdaptiveAvgPool2d-67             [1, 512, 1, 1]               0\n",
            "           Linear-68                  [1, 1000]         513,000\n",
            "           ResNet-69                  [1, 1000]               0\n",
            "           Linear-70                     [1, 9]           9,009\n",
            "================================================================\n",
            "Total params: 11,698,521\n",
            "Trainable params: 11,698,521\n",
            "Non-trainable params: 0\n",
            "----------------------------------------------------------------\n",
            "Input size (MB): 0.57\n",
            "Forward/backward pass size (MB): 62.80\n",
            "Params size (MB): 44.63\n",
            "Estimated Total Size (MB): 108.00\n",
            "----------------------------------------------------------------\n"
          ]
        }
      ]
    },
    {
      "cell_type": "code",
      "metadata": {
        "id": "ahTZz61p9UFB"
      },
      "source": [
        "from sklearn.metrics import accuracy_score"
      ],
      "execution_count": null,
      "outputs": []
    },
    {
      "cell_type": "code",
      "metadata": {
        "id": "79-v-ebe9V-6"
      },
      "source": [
        "def accuracy(true, pred):\n",
        "  true = true.cpu().detach().numpy()\n",
        "  pred = pred.cpu().detach().numpy()\n",
        "\n",
        "  pred = np.argmax(pred, axis = 1)\n",
        "  acc = sum([abs(pred[i] == true[i]) for i in range(len(true))])\n",
        "\n",
        "  return acc"
      ],
      "execution_count": null,
      "outputs": []
    },
    {
      "cell_type": "code",
      "metadata": {
        "id": "KowAxBQ59YGy"
      },
      "source": [
        "EPOCHS = 10\n",
        "criterion = nn.CrossEntropyLoss()\n",
        "optim = torch.optim.Adam(model.parameters(), lr = 1e-4)"
      ],
      "execution_count": null,
      "outputs": []
    },
    {
      "cell_type": "code",
      "metadata": {
        "colab": {
          "base_uri": "https://localhost:8080/"
        },
        "id": "0YQvQqha9aE6",
        "outputId": "963a2443-1e66-4f34-fbdd-e5b6c32849a2"
      },
      "source": [
        "# Model Training...\n",
        "train_loss = []\n",
        "val_loss = []\n",
        "test_loss = []\n",
        "best_loss = np.inf\n",
        "for epoch in range(EPOCHS):\n",
        "  epoch_start = time.time()\n",
        "  print(f\"Epoch {epoch + 1} : \")\n",
        "  TR_LOSS = 0.0\n",
        "  VAL_LOSS = 0.0\n",
        "  TEST_LOSS = 0.0\n",
        "  model.train()\n",
        "  \n",
        "  # Train Data Forward & Backward Pass\n",
        "  train_acc = 0\n",
        "  for index, (train_patch, labels) in enumerate(train_dl):\n",
        "      optim.zero_grad()\n",
        "      train_patch = train_patch.float().cuda()\n",
        "      labels = labels.long().cuda()\n",
        "      op = model(train_patch)\n",
        "      acc = accuracy(labels, op)\n",
        "      train_acc += acc\n",
        "      tloss = criterion(op, labels)\n",
        "      TR_LOSS += tloss.item()\n",
        "      train_loss.append(tloss.item())\n",
        "      tloss.backward()\n",
        "      optim.step()\n",
        "      \n",
        "      if index % 100 == 99:\n",
        "          print(f\"         Step {index + 1} -> Loss : {'%.4f'%(tloss.item())}\")\n",
        "  model.eval()\n",
        "  \n",
        "  # Validation Checking ( Only Forward Pass )\n",
        "  val_acc = 0\n",
        "  test_acc = 0\n",
        "  with torch.no_grad():\n",
        "      for index, (val_patch, labels) in enumerate(val_dl):\n",
        "          val_patch = val_patch.float().cuda()\n",
        "          labels = labels.long().cuda()\n",
        "          op = model(val_patch)\n",
        "          acc = accuracy(labels, op)\n",
        "          val_acc += acc\n",
        "          vloss = criterion(op, labels)\n",
        "          VAL_LOSS += vloss.item()\n",
        "          val_loss.append(vloss.item())\n",
        "      for index, (test_patch, labels) in enumerate(test_dl):\n",
        "          test_patch = test_patch.float().cuda()\n",
        "          labels = labels.long().cuda()\n",
        "          op = model(test_patch)\n",
        "          acc = accuracy(labels, op)\n",
        "          test_acc += acc\n",
        "          tsloss = criterion(op, labels)\n",
        "          TEST_LOSS += tsloss.item()\n",
        "          test_loss.append(tsloss.item())\n",
        "  print(f\"\\n     Training Loss : {'%.4f'%(TR_LOSS)}  ||  Validation Loss : {'%.4f'%(VAL_LOSS)} ||  Test Loss : {'%.4f'%(TEST_LOSS)}\")\n",
        "  print(f\"     Training Accuracy : {'%.6f'%(train_acc * 100 / train_ds.__len__())} %  ||  Validation Accuracy : {'%.6f'%(val_acc * 100 / val_ds.__len__())} %  ||  Testing Accuracy : {'%.6f'%(test_acc * 100 /test_ds.__len__())} % \\n\")\n",
        "  \n",
        "  if VAL_LOSS < best_loss :      # Model Updationg\n",
        "      cprint(\"Model Updation : Success!\", 'green')\n",
        "      torch.save(model, 'best_model.pth')\n",
        "      best_loss = VAL_LOSS\n",
        "  else:\n",
        "      cprint(\"Model Updation : Failed!\", 'red')\n",
        "  epoch_end = time.time()\n",
        "  print(f\"Elapsed Time : {int(epoch_end - epoch_start) // 60}m {int(epoch_end - epoch_start) % 60}s \\n\")\n",
        "cprint('Training completed...', 'blue')"
      ],
      "execution_count": null,
      "outputs": [
        {
          "output_type": "stream",
          "name": "stdout",
          "text": [
            "Epoch 1 : \n",
            "\n",
            "     Training Loss : 29.4557  ||  Validation Loss : 47.7993 ||  Test Loss : 31.6411\n",
            "     Training Accuracy : 75.042159 %  ||  Validation Accuracy : 41.782730 %  ||  Testing Accuracy : 43.000000 % \n",
            "\n",
            "\u001b[32mModel Updation : Success!\u001b[0m\n",
            "Elapsed Time : 0m 25s \n",
            "\n",
            "Epoch 2 : \n",
            "\n",
            "     Training Loss : 10.8813  ||  Validation Loss : 14.7564 ||  Test Loss : 10.4723\n",
            "     Training Accuracy : 90.619730 %  ||  Validation Accuracy : 62.186630 %  ||  Testing Accuracy : 62.600000 % \n",
            "\n",
            "\u001b[32mModel Updation : Success!\u001b[0m\n",
            "Elapsed Time : 0m 31s \n",
            "\n",
            "Epoch 3 : \n",
            "\n",
            "     Training Loss : 9.5298  ||  Validation Loss : 47.9698 ||  Test Loss : 33.9839\n",
            "     Training Accuracy : 92.137437 %  ||  Validation Accuracy : 37.952646 %  ||  Testing Accuracy : 38.800000 % \n",
            "\n",
            "\u001b[31mModel Updation : Failed!\u001b[0m\n",
            "Elapsed Time : 0m 24s \n",
            "\n",
            "Epoch 4 : \n",
            "\n",
            "     Training Loss : 7.2626  ||  Validation Loss : 5.7019 ||  Test Loss : 3.6736\n",
            "     Training Accuracy : 93.423272 %  ||  Validation Accuracy : 78.272981 %  ||  Testing Accuracy : 79.600000 % \n",
            "\n",
            "\u001b[32mModel Updation : Success!\u001b[0m\n",
            "Elapsed Time : 0m 26s \n",
            "\n",
            "Epoch 5 : \n",
            "\n",
            "     Training Loss : 6.4009  ||  Validation Loss : 4.5965 ||  Test Loss : 2.6468\n",
            "     Training Accuracy : 95.699831 %  ||  Validation Accuracy : 86.211699 %  ||  Testing Accuracy : 87.900000 % \n",
            "\n",
            "\u001b[32mModel Updation : Success!\u001b[0m\n",
            "Elapsed Time : 0m 26s \n",
            "\n",
            "Epoch 6 : \n",
            "\n",
            "     Training Loss : 8.0715  ||  Validation Loss : 1.7474 ||  Test Loss : 1.3945\n",
            "     Training Accuracy : 94.877740 %  ||  Validation Accuracy : 94.707521 %  ||  Testing Accuracy : 93.700000 % \n",
            "\n",
            "\u001b[32mModel Updation : Success!\u001b[0m\n",
            "Elapsed Time : 0m 26s \n",
            "\n",
            "Epoch 7 : \n",
            "\n",
            "     Training Loss : 7.8521  ||  Validation Loss : 2.3528 ||  Test Loss : 1.3409\n",
            "     Training Accuracy : 94.919899 %  ||  Validation Accuracy : 93.245125 %  ||  Testing Accuracy : 94.400000 % \n",
            "\n",
            "\u001b[31mModel Updation : Failed!\u001b[0m\n",
            "Elapsed Time : 0m 28s \n",
            "\n",
            "Epoch 8 : \n",
            "\n",
            "     Training Loss : 8.1466  ||  Validation Loss : 9.0651 ||  Test Loss : 5.8870\n",
            "     Training Accuracy : 95.172850 %  ||  Validation Accuracy : 78.899721 %  ||  Testing Accuracy : 78.800000 % \n",
            "\n",
            "\u001b[31mModel Updation : Failed!\u001b[0m\n",
            "Elapsed Time : 0m 26s \n",
            "\n",
            "Epoch 9 : \n",
            "\n",
            "     Training Loss : 7.6971  ||  Validation Loss : 10.0531 ||  Test Loss : 7.1996\n",
            "     Training Accuracy : 92.959528 %  ||  Validation Accuracy : 78.203343 %  ||  Testing Accuracy : 77.100000 % \n",
            "\n",
            "\u001b[31mModel Updation : Failed!\u001b[0m\n",
            "Elapsed Time : 0m 25s \n",
            "\n",
            "Epoch 10 : \n",
            "\n",
            "     Training Loss : 4.6947  ||  Validation Loss : 1.5730 ||  Test Loss : 1.3484\n",
            "     Training Accuracy : 96.247892 %  ||  Validation Accuracy : 95.473538 %  ||  Testing Accuracy : 93.900000 % \n",
            "\n",
            "\u001b[32mModel Updation : Success!\u001b[0m\n",
            "Elapsed Time : 0m 25s \n",
            "\n",
            "\u001b[34mTraining completed...\u001b[0m\n"
          ]
        }
      ]
    },
    {
      "cell_type": "code",
      "metadata": {
        "colab": {
          "base_uri": "https://localhost:8080/",
          "height": 435
        },
        "id": "FD6bX39r9hli",
        "outputId": "bc35f698-4f5a-4f92-870d-992b30eea420"
      },
      "source": [
        "plt.figure(figsize=(20,8))\n",
        "plt.plot(train_loss)\n",
        "plt.title('Train Loss', size = 20)\n",
        "plt.xlabel('STEPS')\n",
        "plt.ylabel('LOSS')\n",
        "plt.show()"
      ],
      "execution_count": null,
      "outputs": [
        {
          "output_type": "display_data",
          "data": {
            "text/plain": [
              "<Figure size 1440x576 with 1 Axes>"
            ],
            "image/png": "[encoded data removed]"
          },
          "metadata": {
            "needs_background": "light"
          }
        }
      ]
    },
    {
      "cell_type": "code",
      "metadata": {
        "colab": {
          "base_uri": "https://localhost:8080/",
          "height": 439
        },
        "id": "eugb8kfI9kBY",
        "outputId": "94f225d8-3f95-470c-a665-2ab48b3cc18d"
      },
      "source": [
        "plt.figure(figsize=(20,8))\n",
        "plt.plot(val_loss)\n",
        "plt.title('Validation Loss', size = 20)\n",
        "plt.xlabel('STEPS')\n",
        "plt.ylabel('LOSS')\n",
        "plt.show()"
      ],
      "execution_count": null,
      "outputs": [
        {
          "output_type": "display_data",
          "data": {
            "text/plain": [
              "<Figure size 1440x576 with 1 Axes>"
            ],
            "image/png": "[encoded data removed]"
          },
          "metadata": {
            "needs_background": "light"
          }
        }
      ]
    },
    {
      "cell_type": "code",
      "metadata": {
        "colab": {
          "base_uri": "https://localhost:8080/",
          "height": 439
        },
        "id": "p8sLNiQv9l9a",
        "outputId": "d1897ee2-caa6-404d-a0f6-2e32f0d97f5a"
      },
      "source": [
        "plt.figure(figsize=(20,8))\n",
        "plt.plot(test_loss)\n",
        "plt.title('Test Loss', size = 20)\n",
        "plt.xlabel('STEPS')\n",
        "plt.ylabel('LOSS')\n",
        "plt.show()"
      ],
      "execution_count": null,
      "outputs": [
        {
          "output_type": "display_data",
          "data": {
            "text/plain": [
              "<Figure size 1440x576 with 1 Axes>"
            ],
            "image/png": "[encoded data removed]"
          },
          "metadata": {
            "needs_background": "light"
          }
        }
      ]
    },
    {
      "cell_type": "code",
      "metadata": {
        "colab": {
          "base_uri": "https://localhost:8080/"
        },
        "id": "NtrjaBZW9npx",
        "outputId": "222bbecc-21c9-4a86-bf39-448cba4a7573"
      },
      "source": [
        "!nvidia-smi"
      ],
      "execution_count": null,
      "outputs": [
        {
          "output_type": "stream",
          "name": "stdout",
          "text": [
            "Sun Jun 19 15:02:53 2022       \n",
            "+-----------------------------------------------------------------------------+\n",
            "| NVIDIA-SMI 460.32.03    Driver Version: 460.32.03    CUDA Version: 11.2     |\n",
            "|-------------------------------+----------------------+----------------------+\n",
            "| GPU  Name        Persistence-M| Bus-Id        Disp.A | Volatile Uncorr. ECC |\n",
            "| Fan  Temp  Perf  Pwr:Usage/Cap|         Memory-Usage | GPU-Util  Compute M. |\n",
            "|                               |                      |               MIG M. |\n",
            "|===============================+======================+======================|\n",
            "|   0  Tesla T4            Off  | 00000000:00:04.0 Off |                    0 |\n",
            "| N/A   72C    P0    33W /  70W |   5748MiB / 15109MiB |      0%      Default |\n",
            "|                               |                      |                  N/A |\n",
            "+-------------------------------+----------------------+----------------------+\n",
            "                                                                               \n",
            "+-----------------------------------------------------------------------------+\n",
            "| Processes:                                                                  |\n",
            "|  GPU   GI   CI        PID   Type   Process name                  GPU Memory |\n",
            "|        ID   ID                                                   Usage      |\n",
            "|=============================================================================|\n",
            "+-----------------------------------------------------------------------------+\n"
          ]
        }
      ]
    },
    {
      "cell_type": "code",
      "source": [
        "class Model2(nn.Module): # EfficientNetB0\n",
        "  \n",
        "  def __init__(self, num_classes):\n",
        "    super(Model2, self).__init__()\n",
        "\n",
        "    self.densenet = torch.hub.load('NVIDIA/DeepLearningExamples:torchhub', 'nvidia_efficientnet_b0', pretrained=True)\n",
        "    self.op_layer = nn.Linear(1000, num_classes)\n",
        "\n",
        "  def forward(self, x):\n",
        "    op1 = self.densenet(x)\n",
        "    output = self.op_layer(op1)\n",
        "    return output\n",
        "model = Model2(9).to(device)\n",
        "summary(model, (3,224,224), batch_size = 1, device = device)"
      ],
      "metadata": {
        "colab": {
          "base_uri": "https://localhost:8080/",
          "height": 1000,
          "referenced_widgets": [
            "4c062a4550c041e28cd2161fb213041c",
            "1eac7e827bfa497aa0c19b91c307902c",
            "e4648dc3f095481c9e34f4035c203191",
            "f88c5dbc30314c2fa6b9271d19946387",
            "99819993b8114d42b469fe46fae28bd1",
            "207ebf12bb8240e7834dbf6077cc874e",
            "d39c5e63b18d4775a0b4ee0248f96fbf",
            "e99f29f137a64830867eaa9384d97125",
            "e8b41f3aa18c48b98a97c3b2e15172f0",
            "6bdae5933b294e40a65041b7f553ff27",
            "4e088cc57fd542549ac3038ec813333c"
          ]
        },
        "id": "j_43qmaxeTQ0",
        "outputId": "2ac1d85b-0f10-4ea6-d64f-84600a878cbb"
      },
      "execution_count": null,
      "outputs": [
        {
          "output_type": "stream",
          "name": "stderr",
          "text": [
            "Downloading: \"https://github.com/NVIDIA/DeepLearningExamples/archive/torchhub.zip\" to /root/.cache/torch/hub/torchhub.zip\n",
            "/root/.cache/torch/hub/NVIDIA_DeepLearningExamples_torchhub/PyTorch/Classification/ConvNets/image_classification/models/common.py:14: UserWarning: pytorch_quantization module not found, quantization will not be available\n",
            "  \"pytorch_quantization module not found, quantization will not be available\"\n",
            "/root/.cache/torch/hub/NVIDIA_DeepLearningExamples_torchhub/PyTorch/Classification/ConvNets/image_classification/models/efficientnet.py:18: UserWarning: pytorch_quantization module not found, quantization will not be available\n",
            "  \"pytorch_quantization module not found, quantization will not be available\"\n",
            "Downloading: \"https://api.ngc.nvidia.com/v2/models/nvidia/efficientnet_b0_pyt_amp/versions/20.12.0/files/nvidia_efficientnet-b0_210412.pth\" to /root/.cache/torch/hub/checkpoints/nvidia_efficientnet-b0_210412.pth\n"
          ]
        },
        {
          "output_type": "display_data",
          "data": {
            "text/plain": [
              "  0%|          | 0.00/20.5M [00:00<?, ?B/s]"
            ],
            "application/vnd.jupyter.widget-view+json": {
              "version_major": 2,
              "version_minor": 0,
              "model_id": "4c062a4550c041e28cd2161fb213041c"
            }
          },
          "metadata": {}
        },
        {
          "output_type": "stream",
          "name": "stdout",
          "text": [
            "----------------------------------------------------------------\n",
            "        Layer (type)               Output Shape         Param #\n",
            "================================================================\n",
            "            Conv2d-1          [1, 32, 112, 112]             864\n",
            "       BatchNorm2d-2          [1, 32, 112, 112]              64\n",
            "              SiLU-3          [1, 32, 112, 112]               0\n",
            "            Conv2d-4          [1, 32, 112, 112]             288\n",
            "       BatchNorm2d-5          [1, 32, 112, 112]              64\n",
            "              SiLU-6          [1, 32, 112, 112]               0\n",
            "            Linear-7                     [1, 8]             264\n",
            "              SiLU-8                     [1, 8]               0\n",
            "            Linear-9                    [1, 32]             288\n",
            "          Sigmoid-10                    [1, 32]               0\n",
            "SequentialSqueezeAndExcitation-11          [1, 32, 112, 112]               0\n",
            "           Conv2d-12          [1, 16, 112, 112]             512\n",
            "      BatchNorm2d-13          [1, 16, 112, 112]              32\n",
            "      MBConvBlock-14          [1, 16, 112, 112]               0\n",
            "           Conv2d-15          [1, 96, 112, 112]           1,536\n",
            "      BatchNorm2d-16          [1, 96, 112, 112]             192\n",
            "             SiLU-17          [1, 96, 112, 112]               0\n",
            "           Conv2d-18            [1, 96, 56, 56]             864\n",
            "      BatchNorm2d-19            [1, 96, 56, 56]             192\n",
            "             SiLU-20            [1, 96, 56, 56]               0\n",
            "           Linear-21                     [1, 4]             388\n",
            "             SiLU-22                     [1, 4]               0\n",
            "           Linear-23                    [1, 96]             480\n",
            "          Sigmoid-24                    [1, 96]               0\n",
            "SequentialSqueezeAndExcitation-25            [1, 96, 56, 56]               0\n",
            "           Conv2d-26            [1, 24, 56, 56]           2,304\n",
            "      BatchNorm2d-27            [1, 24, 56, 56]              48\n",
            "      MBConvBlock-28            [1, 24, 56, 56]               0\n",
            "           Conv2d-29           [1, 144, 56, 56]           3,456\n",
            "      BatchNorm2d-30           [1, 144, 56, 56]             288\n",
            "             SiLU-31           [1, 144, 56, 56]               0\n",
            "           Conv2d-32           [1, 144, 56, 56]           1,296\n",
            "      BatchNorm2d-33           [1, 144, 56, 56]             288\n",
            "             SiLU-34           [1, 144, 56, 56]               0\n",
            "           Linear-35                     [1, 6]             870\n",
            "             SiLU-36                     [1, 6]               0\n",
            "           Linear-37                   [1, 144]           1,008\n",
            "          Sigmoid-38                   [1, 144]               0\n",
            "SequentialSqueezeAndExcitation-39           [1, 144, 56, 56]               0\n",
            "           Conv2d-40            [1, 24, 56, 56]           3,456\n",
            "      BatchNorm2d-41            [1, 24, 56, 56]              48\n",
            "      MBConvBlock-42            [1, 24, 56, 56]               0\n",
            "           Conv2d-43           [1, 144, 56, 56]           3,456\n",
            "      BatchNorm2d-44           [1, 144, 56, 56]             288\n",
            "             SiLU-45           [1, 144, 56, 56]               0\n",
            "           Conv2d-46           [1, 144, 28, 28]           3,600\n",
            "      BatchNorm2d-47           [1, 144, 28, 28]             288\n",
            "             SiLU-48           [1, 144, 28, 28]               0\n",
            "           Linear-49                     [1, 6]             870\n",
            "             SiLU-50                     [1, 6]               0\n",
            "           Linear-51                   [1, 144]           1,008\n",
            "          Sigmoid-52                   [1, 144]               0\n",
            "SequentialSqueezeAndExcitation-53           [1, 144, 28, 28]               0\n",
            "           Conv2d-54            [1, 40, 28, 28]           5,760\n",
            "      BatchNorm2d-55            [1, 40, 28, 28]              80\n",
            "      MBConvBlock-56            [1, 40, 28, 28]               0\n",
            "           Conv2d-57           [1, 240, 28, 28]           9,600\n",
            "      BatchNorm2d-58           [1, 240, 28, 28]             480\n",
            "             SiLU-59           [1, 240, 28, 28]               0\n",
            "           Conv2d-60           [1, 240, 28, 28]           6,000\n",
            "      BatchNorm2d-61           [1, 240, 28, 28]             480\n",
            "             SiLU-62           [1, 240, 28, 28]               0\n",
            "           Linear-63                    [1, 10]           2,410\n",
            "             SiLU-64                    [1, 10]               0\n",
            "           Linear-65                   [1, 240]           2,640\n",
            "          Sigmoid-66                   [1, 240]               0\n",
            "SequentialSqueezeAndExcitation-67           [1, 240, 28, 28]               0\n",
            "           Conv2d-68            [1, 40, 28, 28]           9,600\n",
            "      BatchNorm2d-69            [1, 40, 28, 28]              80\n",
            "      MBConvBlock-70            [1, 40, 28, 28]               0\n",
            "           Conv2d-71           [1, 240, 28, 28]           9,600\n",
            "      BatchNorm2d-72           [1, 240, 28, 28]             480\n",
            "             SiLU-73           [1, 240, 28, 28]               0\n",
            "           Conv2d-74           [1, 240, 14, 14]           2,160\n",
            "      BatchNorm2d-75           [1, 240, 14, 14]             480\n",
            "             SiLU-76           [1, 240, 14, 14]               0\n",
            "           Linear-77                    [1, 10]           2,410\n",
            "             SiLU-78                    [1, 10]               0\n",
            "           Linear-79                   [1, 240]           2,640\n",
            "          Sigmoid-80                   [1, 240]               0\n",
            "SequentialSqueezeAndExcitation-81           [1, 240, 14, 14]               0\n",
            "           Conv2d-82            [1, 80, 14, 14]          19,200\n",
            "      BatchNorm2d-83            [1, 80, 14, 14]             160\n",
            "      MBConvBlock-84            [1, 80, 14, 14]               0\n",
            "           Conv2d-85           [1, 480, 14, 14]          38,400\n",
            "      BatchNorm2d-86           [1, 480, 14, 14]             960\n",
            "             SiLU-87           [1, 480, 14, 14]               0\n",
            "           Conv2d-88           [1, 480, 14, 14]           4,320\n",
            "      BatchNorm2d-89           [1, 480, 14, 14]             960\n",
            "             SiLU-90           [1, 480, 14, 14]               0\n",
            "           Linear-91                    [1, 20]           9,620\n",
            "             SiLU-92                    [1, 20]               0\n",
            "           Linear-93                   [1, 480]          10,080\n",
            "          Sigmoid-94                   [1, 480]               0\n",
            "SequentialSqueezeAndExcitation-95           [1, 480, 14, 14]               0\n",
            "           Conv2d-96            [1, 80, 14, 14]          38,400\n",
            "      BatchNorm2d-97            [1, 80, 14, 14]             160\n",
            "      MBConvBlock-98            [1, 80, 14, 14]               0\n",
            "           Conv2d-99           [1, 480, 14, 14]          38,400\n",
            "     BatchNorm2d-100           [1, 480, 14, 14]             960\n",
            "            SiLU-101           [1, 480, 14, 14]               0\n",
            "          Conv2d-102           [1, 480, 14, 14]           4,320\n",
            "     BatchNorm2d-103           [1, 480, 14, 14]             960\n",
            "            SiLU-104           [1, 480, 14, 14]               0\n",
            "          Linear-105                    [1, 20]           9,620\n",
            "            SiLU-106                    [1, 20]               0\n",
            "          Linear-107                   [1, 480]          10,080\n",
            "         Sigmoid-108                   [1, 480]               0\n",
            "SequentialSqueezeAndExcitation-109           [1, 480, 14, 14]               0\n",
            "          Conv2d-110            [1, 80, 14, 14]          38,400\n",
            "     BatchNorm2d-111            [1, 80, 14, 14]             160\n",
            "     MBConvBlock-112            [1, 80, 14, 14]               0\n",
            "          Conv2d-113           [1, 480, 14, 14]          38,400\n",
            "     BatchNorm2d-114           [1, 480, 14, 14]             960\n",
            "            SiLU-115           [1, 480, 14, 14]               0\n",
            "          Conv2d-116           [1, 480, 14, 14]          12,000\n",
            "     BatchNorm2d-117           [1, 480, 14, 14]             960\n",
            "            SiLU-118           [1, 480, 14, 14]               0\n",
            "          Linear-119                    [1, 20]           9,620\n",
            "            SiLU-120                    [1, 20]               0\n",
            "          Linear-121                   [1, 480]          10,080\n",
            "         Sigmoid-122                   [1, 480]               0\n",
            "SequentialSqueezeAndExcitation-123           [1, 480, 14, 14]               0\n",
            "          Conv2d-124           [1, 112, 14, 14]          53,760\n",
            "     BatchNorm2d-125           [1, 112, 14, 14]             224\n",
            "     MBConvBlock-126           [1, 112, 14, 14]               0\n",
            "          Conv2d-127           [1, 672, 14, 14]          75,264\n",
            "     BatchNorm2d-128           [1, 672, 14, 14]           1,344\n",
            "            SiLU-129           [1, 672, 14, 14]               0\n",
            "          Conv2d-130           [1, 672, 14, 14]          16,800\n",
            "     BatchNorm2d-131           [1, 672, 14, 14]           1,344\n",
            "            SiLU-132           [1, 672, 14, 14]               0\n",
            "          Linear-133                    [1, 28]          18,844\n",
            "            SiLU-134                    [1, 28]               0\n",
            "          Linear-135                   [1, 672]          19,488\n",
            "         Sigmoid-136                   [1, 672]               0\n",
            "SequentialSqueezeAndExcitation-137           [1, 672, 14, 14]               0\n",
            "          Conv2d-138           [1, 112, 14, 14]          75,264\n",
            "     BatchNorm2d-139           [1, 112, 14, 14]             224\n",
            "     MBConvBlock-140           [1, 112, 14, 14]               0\n",
            "          Conv2d-141           [1, 672, 14, 14]          75,264\n",
            "     BatchNorm2d-142           [1, 672, 14, 14]           1,344\n",
            "            SiLU-143           [1, 672, 14, 14]               0\n",
            "          Conv2d-144           [1, 672, 14, 14]          16,800\n",
            "     BatchNorm2d-145           [1, 672, 14, 14]           1,344\n",
            "            SiLU-146           [1, 672, 14, 14]               0\n",
            "          Linear-147                    [1, 28]          18,844\n",
            "            SiLU-148                    [1, 28]               0\n",
            "          Linear-149                   [1, 672]          19,488\n",
            "         Sigmoid-150                   [1, 672]               0\n",
            "SequentialSqueezeAndExcitation-151           [1, 672, 14, 14]               0\n",
            "          Conv2d-152           [1, 112, 14, 14]          75,264\n",
            "     BatchNorm2d-153           [1, 112, 14, 14]             224\n",
            "     MBConvBlock-154           [1, 112, 14, 14]               0\n",
            "          Conv2d-155           [1, 672, 14, 14]          75,264\n",
            "     BatchNorm2d-156           [1, 672, 14, 14]           1,344\n",
            "            SiLU-157           [1, 672, 14, 14]               0\n",
            "          Conv2d-158             [1, 672, 7, 7]          16,800\n",
            "     BatchNorm2d-159             [1, 672, 7, 7]           1,344\n",
            "            SiLU-160             [1, 672, 7, 7]               0\n",
            "          Linear-161                    [1, 28]          18,844\n",
            "            SiLU-162                    [1, 28]               0\n",
            "          Linear-163                   [1, 672]          19,488\n",
            "         Sigmoid-164                   [1, 672]               0\n",
            "SequentialSqueezeAndExcitation-165             [1, 672, 7, 7]               0\n",
            "          Conv2d-166             [1, 192, 7, 7]         129,024\n",
            "     BatchNorm2d-167             [1, 192, 7, 7]             384\n",
            "     MBConvBlock-168             [1, 192, 7, 7]               0\n",
            "          Conv2d-169            [1, 1152, 7, 7]         221,184\n",
            "     BatchNorm2d-170            [1, 1152, 7, 7]           2,304\n",
            "            SiLU-171            [1, 1152, 7, 7]               0\n",
            "          Conv2d-172            [1, 1152, 7, 7]          28,800\n",
            "     BatchNorm2d-173            [1, 1152, 7, 7]           2,304\n",
            "            SiLU-174            [1, 1152, 7, 7]               0\n",
            "          Linear-175                    [1, 48]          55,344\n",
            "            SiLU-176                    [1, 48]               0\n",
            "          Linear-177                  [1, 1152]          56,448\n",
            "         Sigmoid-178                  [1, 1152]               0\n",
            "SequentialSqueezeAndExcitation-179            [1, 1152, 7, 7]               0\n",
            "          Conv2d-180             [1, 192, 7, 7]         221,184\n",
            "     BatchNorm2d-181             [1, 192, 7, 7]             384\n",
            "     MBConvBlock-182             [1, 192, 7, 7]               0\n",
            "          Conv2d-183            [1, 1152, 7, 7]         221,184\n",
            "     BatchNorm2d-184            [1, 1152, 7, 7]           2,304\n",
            "            SiLU-185            [1, 1152, 7, 7]               0\n",
            "          Conv2d-186            [1, 1152, 7, 7]          28,800\n",
            "     BatchNorm2d-187            [1, 1152, 7, 7]           2,304\n",
            "            SiLU-188            [1, 1152, 7, 7]               0\n",
            "          Linear-189                    [1, 48]          55,344\n",
            "            SiLU-190                    [1, 48]               0\n",
            "          Linear-191                  [1, 1152]          56,448\n",
            "         Sigmoid-192                  [1, 1152]               0\n",
            "SequentialSqueezeAndExcitation-193            [1, 1152, 7, 7]               0\n",
            "          Conv2d-194             [1, 192, 7, 7]         221,184\n",
            "     BatchNorm2d-195             [1, 192, 7, 7]             384\n",
            "     MBConvBlock-196             [1, 192, 7, 7]               0\n",
            "          Conv2d-197            [1, 1152, 7, 7]         221,184\n",
            "     BatchNorm2d-198            [1, 1152, 7, 7]           2,304\n",
            "            SiLU-199            [1, 1152, 7, 7]               0\n",
            "          Conv2d-200            [1, 1152, 7, 7]          28,800\n",
            "     BatchNorm2d-201            [1, 1152, 7, 7]           2,304\n",
            "            SiLU-202            [1, 1152, 7, 7]               0\n",
            "          Linear-203                    [1, 48]          55,344\n",
            "            SiLU-204                    [1, 48]               0\n",
            "          Linear-205                  [1, 1152]          56,448\n",
            "         Sigmoid-206                  [1, 1152]               0\n",
            "SequentialSqueezeAndExcitation-207            [1, 1152, 7, 7]               0\n",
            "          Conv2d-208             [1, 192, 7, 7]         221,184\n",
            "     BatchNorm2d-209             [1, 192, 7, 7]             384\n",
            "     MBConvBlock-210             [1, 192, 7, 7]               0\n",
            "          Conv2d-211            [1, 1152, 7, 7]         221,184\n",
            "     BatchNorm2d-212            [1, 1152, 7, 7]           2,304\n",
            "            SiLU-213            [1, 1152, 7, 7]               0\n",
            "          Conv2d-214            [1, 1152, 7, 7]          10,368\n",
            "     BatchNorm2d-215            [1, 1152, 7, 7]           2,304\n",
            "            SiLU-216            [1, 1152, 7, 7]               0\n",
            "          Linear-217                    [1, 48]          55,344\n",
            "            SiLU-218                    [1, 48]               0\n",
            "          Linear-219                  [1, 1152]          56,448\n",
            "         Sigmoid-220                  [1, 1152]               0\n",
            "SequentialSqueezeAndExcitation-221            [1, 1152, 7, 7]               0\n",
            "          Conv2d-222             [1, 320, 7, 7]         368,640\n",
            "     BatchNorm2d-223             [1, 320, 7, 7]             640\n",
            "     MBConvBlock-224             [1, 320, 7, 7]               0\n",
            "          Conv2d-225            [1, 1280, 7, 7]         409,600\n",
            "     BatchNorm2d-226            [1, 1280, 7, 7]           2,560\n",
            "            SiLU-227            [1, 1280, 7, 7]               0\n",
            "AdaptiveAvgPool2d-228            [1, 1280, 1, 1]               0\n",
            "         Flatten-229                  [1, 1280]               0\n",
            "         Dropout-230                  [1, 1280]               0\n",
            "          Linear-231                  [1, 1000]       1,281,000\n",
            "    EfficientNet-232                  [1, 1000]               0\n",
            "          Linear-233                     [1, 9]           9,009\n",
            "================================================================\n",
            "Total params: 5,297,557\n",
            "Trainable params: 5,297,557\n",
            "Non-trainable params: 0\n",
            "----------------------------------------------------------------\n",
            "Input size (MB): 0.57\n",
            "Forward/backward pass size (MB): 172.00\n",
            "Params size (MB): 20.21\n",
            "Estimated Total Size (MB): 192.78\n",
            "----------------------------------------------------------------\n"
          ]
        }
      ]
    },
    {
      "cell_type": "code",
      "source": [
        "EPOCHS = 10\n",
        "criterion = nn.CrossEntropyLoss()\n",
        "optim = torch.optim.Adam(model.parameters(), lr = 1e-4)"
      ],
      "metadata": {
        "id": "PO83a0AbedVj"
      },
      "execution_count": null,
      "outputs": []
    },
    {
      "cell_type": "code",
      "source": [
        "train_loss = []\n",
        "val_loss = []\n",
        "test_loss = []\n",
        "best_loss = np.inf\n",
        "for epoch in range(EPOCHS):\n",
        "  epoch_start = time.time()\n",
        "  print(f\"Epoch {epoch + 1} : \")\n",
        "  TR_LOSS = 0.0\n",
        "  VAL_LOSS = 0.0\n",
        "  TEST_LOSS = 0.0\n",
        "  model.train()\n",
        "  \n",
        "  # Train Data Forward & Backward Pass\n",
        "  train_acc = 0\n",
        "  for index, (train_patch, labels) in enumerate(train_dl):\n",
        "      optim.zero_grad()\n",
        "      train_patch = train_patch.float().cuda()\n",
        "      labels = labels.long().cuda()\n",
        "      op = model(train_patch)\n",
        "      acc = accuracy(labels, op)\n",
        "      train_acc += acc\n",
        "      tloss = criterion(op, labels)\n",
        "      TR_LOSS += tloss.item()\n",
        "      train_loss.append(tloss.item())\n",
        "      tloss.backward()\n",
        "      optim.step()\n",
        "      \n",
        "      if index % 100 == 99:\n",
        "          print(f\"         Step {index + 1} -> Loss : {'%.4f'%(tloss.item())}\")\n",
        "  model.eval()\n",
        "  \n",
        "  # Validation Checking ( Only Forward Pass )\n",
        "  val_acc = 0\n",
        "  test_acc = 0\n",
        "  with torch.no_grad():\n",
        "      for index, (val_patch, labels) in enumerate(val_dl):\n",
        "          val_patch = val_patch.float().cuda()\n",
        "          labels = labels.long().cuda()\n",
        "          op = model(val_patch)\n",
        "          acc = accuracy(labels, op)\n",
        "          val_acc += acc\n",
        "          vloss = criterion(op, labels)\n",
        "          VAL_LOSS += vloss.item()\n",
        "          val_loss.append(vloss.item())\n",
        "      for index, (test_patch, labels) in enumerate(test_dl):\n",
        "          test_patch = test_patch.float().cuda()\n",
        "          labels = labels.long().cuda()\n",
        "          op = model(test_patch)\n",
        "          acc = accuracy(labels, op)\n",
        "          test_acc += acc\n",
        "          tsloss = criterion(op, labels)\n",
        "          TEST_LOSS += tsloss.item()\n",
        "          test_loss.append(tsloss.item())\n",
        "  print(f\"\\n     Training Loss : {'%.4f'%(TR_LOSS)}  ||  Validation Loss : {'%.4f'%(VAL_LOSS)} ||  Test Loss : {'%.4f'%(TEST_LOSS)}\")\n",
        "  print(f\"     Training Accuracy : {'%.6f'%(train_acc * 100 / train_ds.__len__())} %  ||  Validation Accuracy : {'%.6f'%(val_acc * 100 / val_ds.__len__())} %  ||  Testing Accuracy : {'%.6f'%(test_acc * 100 /test_ds.__len__())} % \\n\")\n",
        "  \n",
        "  if VAL_LOSS < best_loss :      # Model Updationg\n",
        "      cprint(\"Model Updation : Success!\", 'green')\n",
        "      torch.save(model, 'best_model.pth')\n",
        "      best_loss = VAL_LOSS\n",
        "  else:\n",
        "      cprint(\"Model Updation : Failed!\", 'red')\n",
        "  epoch_end = time.time()\n",
        "  print(f\"Elapsed Time : {int(epoch_end - epoch_start) // 60}m {int(epoch_end - epoch_start) % 60}s \\n\")\n",
        "cprint('Training completed...', 'blue')"
      ],
      "metadata": {
        "colab": {
          "base_uri": "https://localhost:8080/"
        },
        "id": "pZZoyPJZekK7",
        "outputId": "dfbf0b70-cc6b-46f2-ee09-619ac592cb88"
      },
      "execution_count": null,
      "outputs": [
        {
          "output_type": "stream",
          "name": "stdout",
          "text": [
            "Epoch 1 : \n",
            "\n",
            "     Training Loss : 26.7170  ||  Validation Loss : 14.0495 ||  Test Loss : 9.4424\n",
            "     Training Accuracy : 80.269815 %  ||  Validation Accuracy : 63.857939 %  ||  Testing Accuracy : 64.400000 % \n",
            "\n",
            "\u001b[32mModel Updation : Success!\u001b[0m\n",
            "Elapsed Time : 0m 44s \n",
            "\n",
            "Epoch 2 : \n",
            "\n",
            "     Training Loss : 2.5958  ||  Validation Loss : 8.2613 ||  Test Loss : 5.7513\n",
            "     Training Accuracy : 98.693086 %  ||  Validation Accuracy : 81.406685 %  ||  Testing Accuracy : 81.000000 % \n",
            "\n",
            "\u001b[32mModel Updation : Success!\u001b[0m\n",
            "Elapsed Time : 0m 44s \n",
            "\n",
            "Epoch 3 : \n",
            "\n",
            "     Training Loss : 0.8444  ||  Validation Loss : 4.5765 ||  Test Loss : 3.0830\n",
            "     Training Accuracy : 99.641653 %  ||  Validation Accuracy : 91.573816 %  ||  Testing Accuracy : 91.600000 % \n",
            "\n",
            "\u001b[32mModel Updation : Success!\u001b[0m\n",
            "Elapsed Time : 0m 44s \n",
            "\n",
            "Epoch 4 : \n",
            "\n",
            "     Training Loss : 1.3927  ||  Validation Loss : 2.8399 ||  Test Loss : 1.9174\n",
            "     Training Accuracy : 99.894604 %  ||  Validation Accuracy : 93.941504 %  ||  Testing Accuracy : 94.700000 % \n",
            "\n",
            "\u001b[32mModel Updation : Success!\u001b[0m\n",
            "Elapsed Time : 0m 44s \n",
            "\n",
            "Epoch 5 : \n",
            "\n",
            "     Training Loss : 1.5398  ||  Validation Loss : 3.0732 ||  Test Loss : 2.1911\n",
            "     Training Accuracy : 99.810287 %  ||  Validation Accuracy : 92.061281 %  ||  Testing Accuracy : 91.300000 % \n",
            "\n",
            "\u001b[31mModel Updation : Failed!\u001b[0m\n",
            "Elapsed Time : 0m 44s \n",
            "\n",
            "Epoch 6 : \n",
            "\n",
            "     Training Loss : 0.3592  ||  Validation Loss : 2.3973 ||  Test Loss : 1.6703\n",
            "     Training Accuracy : 99.894604 %  ||  Validation Accuracy : 93.245125 %  ||  Testing Accuracy : 93.300000 % \n",
            "\n",
            "\u001b[32mModel Updation : Success!\u001b[0m\n",
            "Elapsed Time : 0m 44s \n",
            "\n",
            "Epoch 7 : \n",
            "\n",
            "     Training Loss : 0.3852  ||  Validation Loss : 1.8822 ||  Test Loss : 1.1755\n",
            "     Training Accuracy : 99.957841 %  ||  Validation Accuracy : 95.055710 %  ||  Testing Accuracy : 95.600000 % \n",
            "\n",
            "\u001b[32mModel Updation : Success!\u001b[0m\n",
            "Elapsed Time : 0m 44s \n",
            "\n",
            "Epoch 8 : \n",
            "\n",
            "     Training Loss : 0.1486  ||  Validation Loss : 1.2950 ||  Test Loss : 0.7274\n",
            "     Training Accuracy : 99.978921 %  ||  Validation Accuracy : 96.587744 %  ||  Testing Accuracy : 97.200000 % \n",
            "\n",
            "\u001b[32mModel Updation : Success!\u001b[0m\n",
            "Elapsed Time : 0m 44s \n",
            "\n",
            "Epoch 9 : \n",
            "\n",
            "     Training Loss : 0.2557  ||  Validation Loss : 0.8296 ||  Test Loss : 0.4397\n",
            "     Training Accuracy : 99.936762 %  ||  Validation Accuracy : 97.910864 %  ||  Testing Accuracy : 98.000000 % \n",
            "\n",
            "\u001b[32mModel Updation : Success!\u001b[0m\n",
            "Elapsed Time : 0m 44s \n",
            "\n",
            "Epoch 10 : \n",
            "\n",
            "     Training Loss : 0.1648  ||  Validation Loss : 0.6398 ||  Test Loss : 0.3941\n",
            "     Training Accuracy : 99.915683 %  ||  Validation Accuracy : 97.980501 %  ||  Testing Accuracy : 98.200000 % \n",
            "\n",
            "\u001b[32mModel Updation : Success!\u001b[0m\n",
            "Elapsed Time : 0m 44s \n",
            "\n",
            "\u001b[34mTraining completed...\u001b[0m\n"
          ]
        }
      ]
    },
    {
      "cell_type": "code",
      "source": [
        "class MyEnsemble(nn.Module):\n",
        "    def __init__(self, modelA, modelB, nb_classes=9):\n",
        "        super(MyEnsemble, self).__init__()\n",
        "        self.modelA = modelA\n",
        "        self.modelB = modelB\n",
        "        # Remove last linear layer\n",
        "        self.modelA.fc = nn.Identity()\n",
        "        self.modelB.fc = nn.Identity()\n",
        "        \n",
        "        # Create new classifier\n",
        "        self.classifier = nn.Linear(2048+512, nb_classes)\n",
        "        \n",
        "    def forward(self, x):\n",
        "        x1 = self.modelA(x.clone())  # clone to make sure x is not changed by inplace methods\n",
        "        x1 = x1.view(x1.size(0), -1)\n",
        "        x2 = self.modelB(x)\n",
        "        x2 = x2.view(x2.size(0), -1)\n",
        "        x = torch.cat((x1, x2), dim=1)\n",
        "        \n",
        "        x = self.classifier(F.relu(x))\n",
        "        return x\n",
        "\n",
        "model = MyEnsemble(Model1, Model2, 9)"
      ],
      "metadata": {
        "id": "cKHih-bTetfc"
      },
      "execution_count": null,
      "outputs": []
    },
    {
      "cell_type": "code",
      "source": [
        "train_loss = []\n",
        "val_loss = []\n",
        "test_loss = []\n",
        "best_loss = np.inf\n",
        "for epoch in range(EPOCHS):\n",
        "  epoch_start = time.time()\n",
        "  print(f\"Epoch {epoch + 1} : \")\n",
        "  TR_LOSS = 0.0\n",
        "  VAL_LOSS = 0.0\n",
        "  TEST_LOSS = 0.0\n",
        "  model.train()\n",
        "  \n",
        "  # Train Data Forward & Backward Pass\n",
        "  train_acc = 0\n",
        "  for index, (train_patch, labels) in enumerate(train_dl):\n",
        "      optim.zero_grad()\n",
        "      train_patch = train_patch.float().cuda()\n",
        "      labels = labels.long().cuda()\n",
        "      op = model(train_patch)\n",
        "      acc = accuracy(labels, op)\n",
        "      train_acc += acc\n",
        "      tloss = criterion(op, labels)\n",
        "      TR_LOSS += tloss.item()\n",
        "      train_loss.append(tloss.item())\n",
        "      tloss.backward()\n",
        "      optim.step()\n",
        "      \n",
        "      if index % 100 == 99:\n",
        "          print(f\"         Step {index + 1} -> Loss : {'%.4f'%(tloss.item())}\")\n",
        "  model.eval()\n",
        "  \n",
        "  # Validation Checking ( Only Forward Pass )\n",
        "  val_acc = 0\n",
        "  test_acc = 0\n",
        "  with torch.no_grad():\n",
        "      for index, (val_patch, labels) in enumerate(val_dl):\n",
        "          val_patch = val_patch.float().cuda()\n",
        "          labels = labels.long().cuda()\n",
        "          op = model(val_patch)\n",
        "          acc = accuracy(labels, op)\n",
        "          val_acc += acc\n",
        "          vloss = criterion(op, labels)\n",
        "          VAL_LOSS += vloss.item()\n",
        "          val_loss.append(vloss.item())\n",
        "      for index, (test_patch, labels) in enumerate(test_dl):\n",
        "          test_patch = test_patch.float().cuda()\n",
        "          labels = labels.long().cuda()\n",
        "          op = model(test_patch)\n",
        "          acc = accuracy(labels, op)\n",
        "          test_acc += acc\n",
        "          tsloss = criterion(op, labels)\n",
        "          TEST_LOSS += tsloss.item()\n",
        "          test_loss.append(tsloss.item())\n",
        "  print(f\"\\n     Training Loss : {'%.4f'%(TR_LOSS)}  ||  Validation Loss : {'%.4f'%(VAL_LOSS)} ||  Test Loss : {'%.4f'%(TEST_LOSS)}\")\n",
        "  print(f\"     Training Accuracy : {'%.6f'%(train_acc * 100 / train_ds.__len__())} %  ||  Validation Accuracy : {'%.6f'%(val_acc * 100 / val_ds.__len__())} %  ||  Testing Accuracy : {'%.6f'%(test_acc * 100 /test_ds.__len__())} % \\n\")\n",
        "  \n",
        "  if VAL_LOSS < best_loss :      # Model Updationg\n",
        "      cprint(\"Model Updation : Success!\", 'green')\n",
        "      torch.save(model, 'best_model.pth')\n",
        "      best_loss = VAL_LOSS\n",
        "  else:\n",
        "      cprint(\"Model Updation : Failed!\", 'red')\n",
        "  epoch_end = time.time()\n",
        "  print(f\"Elapsed Time : {int(epoch_end - epoch_start) // 60}m {int(epoch_end - epoch_start) % 60}s \\n\")\n",
        "cprint('Training completed...', 'blue')"
      ],
      "metadata": {
        "colab": {
          "base_uri": "https://localhost:8080/",
          "height": 432
        },
        "id": "TgpYCnxWiGRw",
        "outputId": "3320cc54-23db-47b9-8cb5-76d6cbb02abd"
      },
      "execution_count": null,
      "outputs": [
        {
          "output_type": "stream",
          "name": "stdout",
          "text": [
            "Epoch 1 : \n"
          ]
        },
        {
          "output_type": "stream",
          "name": "stderr",
          "text": [
            "Using cache found in /root/.cache/torch/hub/pytorch_vision_v0.10.0\n"
          ]
        },
        {
          "output_type": "error",
          "ename": "TypeError",
          "evalue": "ignored",
          "traceback": [
            "\u001b[0;31m---------------------------------------------------------------------------\u001b[0m",
            "\u001b[0;31mTypeError\u001b[0m                                 Traceback (most recent call last)",
            "\u001b[0;32m<ipython-input-84-76edd13ea761>\u001b[0m in \u001b[0;36m<module>\u001b[0;34m()\u001b[0m\n\u001b[1;32m     17\u001b[0m       \u001b[0mtrain_patch\u001b[0m \u001b[0;34m=\u001b[0m \u001b[0mtrain_patch\u001b[0m\u001b[0;34m.\u001b[0m\u001b[0mfloat\u001b[0m\u001b[0;34m(\u001b[0m\u001b[0;34m)\u001b[0m\u001b[0;34m.\u001b[0m\u001b[0mcuda\u001b[0m\u001b[0;34m(\u001b[0m\u001b[0;34m)\u001b[0m\u001b[0;34m\u001b[0m\u001b[0;34m\u001b[0m\u001b[0m\n\u001b[1;32m     18\u001b[0m       \u001b[0mlabels\u001b[0m \u001b[0;34m=\u001b[0m \u001b[0mlabels\u001b[0m\u001b[0;34m.\u001b[0m\u001b[0mlong\u001b[0m\u001b[0;34m(\u001b[0m\u001b[0;34m)\u001b[0m\u001b[0;34m.\u001b[0m\u001b[0mcuda\u001b[0m\u001b[0;34m(\u001b[0m\u001b[0;34m)\u001b[0m\u001b[0;34m\u001b[0m\u001b[0;34m\u001b[0m\u001b[0m\n\u001b[0;32m---> 19\u001b[0;31m       \u001b[0mop\u001b[0m \u001b[0;34m=\u001b[0m \u001b[0mmodel\u001b[0m\u001b[0;34m(\u001b[0m\u001b[0mtrain_patch\u001b[0m\u001b[0;34m)\u001b[0m\u001b[0;34m\u001b[0m\u001b[0;34m\u001b[0m\u001b[0m\n\u001b[0m\u001b[1;32m     20\u001b[0m       \u001b[0macc\u001b[0m \u001b[0;34m=\u001b[0m \u001b[0maccuracy\u001b[0m\u001b[0;34m(\u001b[0m\u001b[0mlabels\u001b[0m\u001b[0;34m,\u001b[0m \u001b[0mop\u001b[0m\u001b[0;34m)\u001b[0m\u001b[0;34m\u001b[0m\u001b[0;34m\u001b[0m\u001b[0m\n\u001b[1;32m     21\u001b[0m       \u001b[0mtrain_acc\u001b[0m \u001b[0;34m+=\u001b[0m \u001b[0macc\u001b[0m\u001b[0;34m\u001b[0m\u001b[0;34m\u001b[0m\u001b[0m\n",
            "\u001b[0;32m/usr/local/lib/python3.7/dist-packages/torch/nn/modules/module.py\u001b[0m in \u001b[0;36m_call_impl\u001b[0;34m(self, *input, **kwargs)\u001b[0m\n\u001b[1;32m   1108\u001b[0m         if not (self._backward_hooks or self._forward_hooks or self._forward_pre_hooks or _global_backward_hooks\n\u001b[1;32m   1109\u001b[0m                 or _global_forward_hooks or _global_forward_pre_hooks):\n\u001b[0;32m-> 1110\u001b[0;31m             \u001b[0;32mreturn\u001b[0m \u001b[0mforward_call\u001b[0m\u001b[0;34m(\u001b[0m\u001b[0;34m*\u001b[0m\u001b[0minput\u001b[0m\u001b[0;34m,\u001b[0m \u001b[0;34m**\u001b[0m\u001b[0mkwargs\u001b[0m\u001b[0;34m)\u001b[0m\u001b[0;34m\u001b[0m\u001b[0;34m\u001b[0m\u001b[0m\n\u001b[0m\u001b[1;32m   1111\u001b[0m         \u001b[0;31m# Do not call functions when jit is used\u001b[0m\u001b[0;34m\u001b[0m\u001b[0;34m\u001b[0m\u001b[0;34m\u001b[0m\u001b[0m\n\u001b[1;32m   1112\u001b[0m         \u001b[0mfull_backward_hooks\u001b[0m\u001b[0;34m,\u001b[0m \u001b[0mnon_full_backward_hooks\u001b[0m \u001b[0;34m=\u001b[0m \u001b[0;34m[\u001b[0m\u001b[0;34m]\u001b[0m\u001b[0;34m,\u001b[0m \u001b[0;34m[\u001b[0m\u001b[0;34m]\u001b[0m\u001b[0;34m\u001b[0m\u001b[0;34m\u001b[0m\u001b[0m\n",
            "\u001b[0;32m<ipython-input-83-a227d1c99502>\u001b[0m in \u001b[0;36mforward\u001b[0;34m(self, x)\u001b[0m\n\u001b[1;32m     12\u001b[0m \u001b[0;34m\u001b[0m\u001b[0m\n\u001b[1;32m     13\u001b[0m     \u001b[0;32mdef\u001b[0m \u001b[0mforward\u001b[0m\u001b[0;34m(\u001b[0m\u001b[0mself\u001b[0m\u001b[0;34m,\u001b[0m \u001b[0mx\u001b[0m\u001b[0;34m)\u001b[0m\u001b[0;34m:\u001b[0m\u001b[0;34m\u001b[0m\u001b[0;34m\u001b[0m\u001b[0m\n\u001b[0;32m---> 14\u001b[0;31m         \u001b[0mx1\u001b[0m \u001b[0;34m=\u001b[0m \u001b[0mself\u001b[0m\u001b[0;34m.\u001b[0m\u001b[0mmodelA\u001b[0m\u001b[0;34m(\u001b[0m\u001b[0mx\u001b[0m\u001b[0;34m.\u001b[0m\u001b[0mclone\u001b[0m\u001b[0;34m(\u001b[0m\u001b[0;34m)\u001b[0m\u001b[0;34m)\u001b[0m  \u001b[0;31m# clone to make sure x is not changed by inplace methods\u001b[0m\u001b[0;34m\u001b[0m\u001b[0;34m\u001b[0m\u001b[0m\n\u001b[0m\u001b[1;32m     15\u001b[0m         \u001b[0mx1\u001b[0m \u001b[0;34m=\u001b[0m \u001b[0mx1\u001b[0m\u001b[0;34m.\u001b[0m\u001b[0mview\u001b[0m\u001b[0;34m(\u001b[0m\u001b[0mx1\u001b[0m\u001b[0;34m.\u001b[0m\u001b[0msize\u001b[0m\u001b[0;34m(\u001b[0m\u001b[0;36m0\u001b[0m\u001b[0;34m)\u001b[0m\u001b[0;34m,\u001b[0m \u001b[0;34m-\u001b[0m\u001b[0;36m1\u001b[0m\u001b[0;34m)\u001b[0m\u001b[0;34m\u001b[0m\u001b[0;34m\u001b[0m\u001b[0m\n\u001b[1;32m     16\u001b[0m         \u001b[0mx2\u001b[0m \u001b[0;34m=\u001b[0m \u001b[0mself\u001b[0m\u001b[0;34m.\u001b[0m\u001b[0mmodelB\u001b[0m\u001b[0;34m(\u001b[0m\u001b[0mx\u001b[0m\u001b[0;34m)\u001b[0m\u001b[0;34m\u001b[0m\u001b[0;34m\u001b[0m\u001b[0m\n",
            "\u001b[0;32m<ipython-input-58-9e20b04e2b0b>\u001b[0m in \u001b[0;36m__init__\u001b[0;34m(self, num_classes)\u001b[0m\n\u001b[1;32m      5\u001b[0m \u001b[0;34m\u001b[0m\u001b[0m\n\u001b[1;32m      6\u001b[0m     \u001b[0mself\u001b[0m\u001b[0;34m.\u001b[0m\u001b[0mresnet18\u001b[0m \u001b[0;34m=\u001b[0m \u001b[0mtorch\u001b[0m\u001b[0;34m.\u001b[0m\u001b[0mhub\u001b[0m\u001b[0;34m.\u001b[0m\u001b[0mload\u001b[0m\u001b[0;34m(\u001b[0m\u001b[0;34m'pytorch/vision:v0.10.0'\u001b[0m\u001b[0;34m,\u001b[0m \u001b[0;34m'resnet18'\u001b[0m\u001b[0;34m,\u001b[0m \u001b[0mpretrained\u001b[0m\u001b[0;34m=\u001b[0m\u001b[0;32mFalse\u001b[0m\u001b[0;34m)\u001b[0m\u001b[0;34m\u001b[0m\u001b[0;34m\u001b[0m\u001b[0m\n\u001b[0;32m----> 7\u001b[0;31m     \u001b[0mself\u001b[0m\u001b[0;34m.\u001b[0m\u001b[0mop_layer\u001b[0m \u001b[0;34m=\u001b[0m \u001b[0mnn\u001b[0m\u001b[0;34m.\u001b[0m\u001b[0mLinear\u001b[0m\u001b[0;34m(\u001b[0m\u001b[0;36m1000\u001b[0m\u001b[0;34m,\u001b[0m \u001b[0mnum_classes\u001b[0m\u001b[0;34m)\u001b[0m\u001b[0;34m\u001b[0m\u001b[0;34m\u001b[0m\u001b[0m\n\u001b[0m\u001b[1;32m      8\u001b[0m \u001b[0;34m\u001b[0m\u001b[0m\n\u001b[1;32m      9\u001b[0m   \u001b[0;32mdef\u001b[0m \u001b[0mforward\u001b[0m\u001b[0;34m(\u001b[0m\u001b[0mself\u001b[0m\u001b[0;34m,\u001b[0m \u001b[0mx\u001b[0m\u001b[0;34m)\u001b[0m\u001b[0;34m:\u001b[0m\u001b[0;34m\u001b[0m\u001b[0;34m\u001b[0m\u001b[0m\n",
            "\u001b[0;32m/usr/local/lib/python3.7/dist-packages/torch/nn/modules/linear.py\u001b[0m in \u001b[0;36m__init__\u001b[0;34m(self, in_features, out_features, bias, device, dtype)\u001b[0m\n\u001b[1;32m     83\u001b[0m         \u001b[0mself\u001b[0m\u001b[0;34m.\u001b[0m\u001b[0min_features\u001b[0m \u001b[0;34m=\u001b[0m \u001b[0min_features\u001b[0m\u001b[0;34m\u001b[0m\u001b[0;34m\u001b[0m\u001b[0m\n\u001b[1;32m     84\u001b[0m         \u001b[0mself\u001b[0m\u001b[0;34m.\u001b[0m\u001b[0mout_features\u001b[0m \u001b[0;34m=\u001b[0m \u001b[0mout_features\u001b[0m\u001b[0;34m\u001b[0m\u001b[0;34m\u001b[0m\u001b[0m\n\u001b[0;32m---> 85\u001b[0;31m         \u001b[0mself\u001b[0m\u001b[0;34m.\u001b[0m\u001b[0mweight\u001b[0m \u001b[0;34m=\u001b[0m \u001b[0mParameter\u001b[0m\u001b[0;34m(\u001b[0m\u001b[0mtorch\u001b[0m\u001b[0;34m.\u001b[0m\u001b[0mempty\u001b[0m\u001b[0;34m(\u001b[0m\u001b[0;34m(\u001b[0m\u001b[0mout_features\u001b[0m\u001b[0;34m,\u001b[0m \u001b[0min_features\u001b[0m\u001b[0;34m)\u001b[0m\u001b[0;34m,\u001b[0m \u001b[0;34m**\u001b[0m\u001b[0mfactory_kwargs\u001b[0m\u001b[0;34m)\u001b[0m\u001b[0;34m)\u001b[0m\u001b[0;34m\u001b[0m\u001b[0;34m\u001b[0m\u001b[0m\n\u001b[0m\u001b[1;32m     86\u001b[0m         \u001b[0;32mif\u001b[0m \u001b[0mbias\u001b[0m\u001b[0;34m:\u001b[0m\u001b[0;34m\u001b[0m\u001b[0;34m\u001b[0m\u001b[0m\n\u001b[1;32m     87\u001b[0m             \u001b[0mself\u001b[0m\u001b[0;34m.\u001b[0m\u001b[0mbias\u001b[0m \u001b[0;34m=\u001b[0m \u001b[0mParameter\u001b[0m\u001b[0;34m(\u001b[0m\u001b[0mtorch\u001b[0m\u001b[0;34m.\u001b[0m\u001b[0mempty\u001b[0m\u001b[0;34m(\u001b[0m\u001b[0mout_features\u001b[0m\u001b[0;34m,\u001b[0m \u001b[0;34m**\u001b[0m\u001b[0mfactory_kwargs\u001b[0m\u001b[0;34m)\u001b[0m\u001b[0;34m)\u001b[0m\u001b[0;34m\u001b[0m\u001b[0;34m\u001b[0m\u001b[0m\n",
            "\u001b[0;31mTypeError\u001b[0m: empty(): argument 'size' must be tuple of ints, but found element of type Tensor at pos 1"
          ]
        }
      ]
    },
    {
      "cell_type": "code",
      "metadata": {
        "id": "DwzmbKZZ9svI"
      },
      "source": [
        "from mlxtend.plotting import plot_confusion_matrix\n",
        "from sklearn.metrics import multilabel_confusion_matrix,confusion_matrix"
      ],
      "execution_count": null,
      "outputs": []
    },
    {
      "cell_type": "code",
      "metadata": {
        "id": "aK7he0qJ9udC"
      },
      "source": [
        "def create_conf_mat(loader, model):\n",
        "  y_true = []\n",
        "  y_pred = []\n",
        "\n",
        "  with torch.no_grad():\n",
        "          for index, (patch, labels) in enumerate(loader):\n",
        "            patch = patch.float().cuda()\n",
        "            labels = labels.long().cuda()\n",
        "            op = model(patch)\n",
        "            labels = labels.cpu().detach().numpy()\n",
        "            op = op.cpu().detach().numpy()\n",
        "            op = np.argmax(op, axis = 1)\n",
        "            for el in op:\n",
        "              y_pred.append(el)\n",
        "            for el in labels:\n",
        "              y_true.append(el)\n",
        "  mat=confusion_matrix(y_true,y_pred)\n",
        "  plot_confusion_matrix(mat,figsize=(9,9),colorbar=True)\n",
        "  plt.show()\n",
        "\n",
        "  return mat"
      ],
      "execution_count": null,
      "outputs": []
    },
    {
      "cell_type": "code",
      "metadata": {
        "id": "U0IGMA399wew"
      },
      "source": [
        "def pr_and_rc(mat):\n",
        "  tp = [mat[i][i] for i in range(len(mat))]\n",
        "  pr_arr = np.sum(mat,axis = 0)\n",
        "  rc_arr = np.sum(mat,axis = 1)\n",
        "\n",
        "  precision = sum([tp[i]/pr_arr[i] for i in range(len(mat))]) / len(mat)\n",
        "  recall = sum([tp[i]/rc_arr[i] for i in range(len(mat))]) / len(mat)\n",
        "\n",
        "  print(f'Precision : {precision} || Recall : {recall}')\n",
        "  print(f\"F1-Score : {2 * (precision*recall) / (precision + recall)}\")"
      ],
      "execution_count": null,
      "outputs": []
    },
    {
      "cell_type": "code",
      "metadata": {
        "colab": {
          "base_uri": "https://localhost:8080/",
          "height": 561
        },
        "id": "kTT7qLjB9y8Z",
        "outputId": "2fb8a8cc-d790-4f08-eff4-1a96a8c9bbe2"
      },
      "source": [
        "train_conf = create_conf_mat(train_dl, best_model)\n",
        "pr_and_rc(train_conf)"
      ],
      "execution_count": null,
      "outputs": [
        {
          "output_type": "display_data",
          "data": {
            "image/png": "[encoded data removed]",
            "text/plain": [
              "<Figure size 648x648 with 2 Axes>"
            ]
          },
          "metadata": {
            "needs_background": "light"
          }
        },
        {
          "output_type": "stream",
          "name": "stdout",
          "text": [
            "Precision : 0.9735023941529796 || Recall : 0.9722410961944663\n",
            "F1-Score : 0.9728713363653295\n"
          ]
        }
      ]
    },
    {
      "cell_type": "code",
      "metadata": {
        "colab": {
          "base_uri": "https://localhost:8080/",
          "height": 561
        },
        "id": "QWv2rkdo93cS",
        "outputId": "1309ae18-3309-4935-8e91-e979007256e3"
      },
      "source": [
        "val_conf = create_conf_mat(val_dl, best_model)\n",
        "pr_and_rc(val_conf)"
      ],
      "execution_count": null,
      "outputs": [
        {
          "output_type": "display_data",
          "data": {
            "image/png": "[encoded data removed]",
            "text/plain": [
              "<Figure size 648x648 with 2 Axes>"
            ]
          },
          "metadata": {
            "needs_background": "light"
          }
        },
        {
          "output_type": "stream",
          "name": "stdout",
          "text": [
            "Precision : 0.9667881475174804 || Recall : 0.9651530699570962\n",
            "F1-Score : 0.9659699168221811\n"
          ]
        }
      ]
    },
    {
      "cell_type": "code",
      "metadata": {
        "colab": {
          "base_uri": "https://localhost:8080/",
          "height": 561
        },
        "id": "trkOv3-D95NA",
        "outputId": "84ddd93a-41dc-4e4f-c8c0-55a4f633d015"
      },
      "source": [
        "test_conf = create_conf_mat(test_dl, best_model)\n",
        "pr_and_rc(test_conf)"
      ],
      "execution_count": null,
      "outputs": [
        {
          "output_type": "display_data",
          "data": {
            "image/png": "[encoded data removed]",
            "text/plain": [
              "<Figure size 648x648 with 2 Axes>"
            ]
          },
          "metadata": {
            "needs_background": "light"
          }
        },
        {
          "output_type": "stream",
          "name": "stdout",
          "text": [
            "Precision : 0.967810091898766 || Recall : 0.9668556620157044\n",
            "F1-Score : 0.9673326415324855\n"
          ]
        }
      ]
    }
  ]
}